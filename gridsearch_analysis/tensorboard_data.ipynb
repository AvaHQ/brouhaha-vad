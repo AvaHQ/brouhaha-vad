{
 "cells": [
  {
   "cell_type": "code",
   "execution_count": 61,
   "metadata": {},
   "outputs": [],
   "source": [
    "import tensorflow as tf\n",
    "import numpy as np\n",
    "from cmath import inf\n",
    "from collections import defaultdict\n",
    "import yaml\n",
    "import pandas as pd"
   ]
  },
  {
   "cell_type": "code",
   "execution_count": 77,
   "metadata": {},
   "outputs": [],
   "source": [
    "events = \"../lightning_logs/all_model_1/events.out.tfevents.1662745836.learnfair0228.42109.0\""
   ]
  },
  {
   "cell_type": "code",
   "execution_count": 78,
   "metadata": {},
   "outputs": [],
   "source": [
    "get_values = {\n",
    "    \"RegressiveActivityDetectionTask-BrouhahaSpeakerDiarizationNoisySpeakerDiarization-c50ValMetric\",\n",
    "    \"RegressiveActivityDetectionTask-BrouhahaSpeakerDiarizationNoisySpeakerDiarization-snrValMetric\",\n",
    "    \"RegressiveActivityDetectionTask-BrouhahaSpeakerDiarizationNoisySpeakerDiarization-vadOptiTh\",\n",
    "    \"RegressiveActivityDetectionTask-BrouhahaSpeakerDiarizationNoisySpeakerDiarization-vadValMetric\",\n",
    "    \"RegressiveActivityDetectionTask-BrouhahaSpeakerDiarizationNoisySpeakerDiarization-ValidationMetric\",\n",
    "    \"RegressiveActivityDetectionTask-BrouhahaSpeakerDiarizationNoisySpeakerDiarization-TrainLoss\",\n",
    "    \"RegressiveActivityDetectionTask-BrouhahaSpeakerDiarizationNoisySpeakerDiarization-vadLoss\",\n",
    "    \"RegressiveActivityDetectionTask-BrouhahaSpeakerDiarizationNoisySpeakerDiarization-snrLoss\",\n",
    "    \"RegressiveActivityDetectionTask-BrouhahaSpeakerDiarizationNoisySpeakerDiarization-c50Loss\",\n",
    "    \"epoch\"\n",
    "}"
   ]
  },
  {
   "cell_type": "code",
   "execution_count": 79,
   "metadata": {},
   "outputs": [
    {
     "data": {
      "text/plain": [
       "defaultdict(None,\n",
       "            {17304: defaultdict(None,\n",
       "                         {'RegressiveActivityDetectionTask-BrouhahaSpeakerDiarizationNoisySpeakerDiarization-c50ValMetric': 7.100375175476074,\n",
       "                          'RegressiveActivityDetectionTask-BrouhahaSpeakerDiarizationNoisySpeakerDiarization-snrValMetric': 4.93427848815918,\n",
       "                          'RegressiveActivityDetectionTask-BrouhahaSpeakerDiarizationNoisySpeakerDiarization-vadOptiTh': 0.41999921202659607,\n",
       "                          'RegressiveActivityDetectionTask-BrouhahaSpeakerDiarizationNoisySpeakerDiarization-vadValMetric': 0.9657612442970276,\n",
       "                          'RegressiveActivityDetectionTask-BrouhahaSpeakerDiarizationNoisySpeakerDiarization-ValidationMetric': 0.08563175052404404,\n",
       "                          'epoch': 0.0,\n",
       "                          'RegressiveActivityDetectionTask-BrouhahaSpeakerDiarizationNoisySpeakerDiarization-TrainLoss': 0.7604008913040161,\n",
       "                          'RegressiveActivityDetectionTask-BrouhahaSpeakerDiarizationNoisySpeakerDiarization-vadLoss': 0.21256259083747864,\n",
       "                          'RegressiveActivityDetectionTask-BrouhahaSpeakerDiarizationNoisySpeakerDiarization-snrLoss': 0.26588645577430725,\n",
       "                          'RegressiveActivityDetectionTask-BrouhahaSpeakerDiarizationNoisySpeakerDiarization-c50Loss': 0.2819504737854004}),\n",
       "             34609: defaultdict(None,\n",
       "                         {'RegressiveActivityDetectionTask-BrouhahaSpeakerDiarizationNoisySpeakerDiarization-c50ValMetric': 6.799254894256592,\n",
       "                          'RegressiveActivityDetectionTask-BrouhahaSpeakerDiarizationNoisySpeakerDiarization-snrValMetric': 4.724829196929932,\n",
       "                          'RegressiveActivityDetectionTask-BrouhahaSpeakerDiarizationNoisySpeakerDiarization-vadOptiTh': 0.4000008702278137,\n",
       "                          'RegressiveActivityDetectionTask-BrouhahaSpeakerDiarizationNoisySpeakerDiarization-vadValMetric': 0.9673071503639221,\n",
       "                          'RegressiveActivityDetectionTask-BrouhahaSpeakerDiarizationNoisySpeakerDiarization-ValidationMetric': 0.0819566398859024,\n",
       "                          'epoch': 1.0,\n",
       "                          'RegressiveActivityDetectionTask-BrouhahaSpeakerDiarizationNoisySpeakerDiarization-TrainLoss': 0.643723726272583,\n",
       "                          'RegressiveActivityDetectionTask-BrouhahaSpeakerDiarizationNoisySpeakerDiarization-vadLoss': 0.18584169447422028,\n",
       "                          'RegressiveActivityDetectionTask-BrouhahaSpeakerDiarizationNoisySpeakerDiarization-snrLoss': 0.23413221538066864,\n",
       "                          'RegressiveActivityDetectionTask-BrouhahaSpeakerDiarizationNoisySpeakerDiarization-c50Loss': 0.22374965250492096}),\n",
       "             51914: defaultdict(None,\n",
       "                         {'RegressiveActivityDetectionTask-BrouhahaSpeakerDiarizationNoisySpeakerDiarization-c50ValMetric': 6.623837471008301,\n",
       "                          'RegressiveActivityDetectionTask-BrouhahaSpeakerDiarizationNoisySpeakerDiarization-snrValMetric': 4.64404296875,\n",
       "                          'RegressiveActivityDetectionTask-BrouhahaSpeakerDiarizationNoisySpeakerDiarization-vadOptiTh': 0.29999980330467224,\n",
       "                          'RegressiveActivityDetectionTask-BrouhahaSpeakerDiarizationNoisySpeakerDiarization-vadValMetric': 0.9683135747909546,\n",
       "                          'RegressiveActivityDetectionTask-BrouhahaSpeakerDiarizationNoisySpeakerDiarization-ValidationMetric': 0.08015069365501404,\n",
       "                          'epoch': 2.0,\n",
       "                          'RegressiveActivityDetectionTask-BrouhahaSpeakerDiarizationNoisySpeakerDiarization-TrainLoss': 0.6190371513366699,\n",
       "                          'RegressiveActivityDetectionTask-BrouhahaSpeakerDiarizationNoisySpeakerDiarization-vadLoss': 0.17989492416381836,\n",
       "                          'RegressiveActivityDetectionTask-BrouhahaSpeakerDiarizationNoisySpeakerDiarization-snrLoss': 0.22820326685905457,\n",
       "                          'RegressiveActivityDetectionTask-BrouhahaSpeakerDiarizationNoisySpeakerDiarization-c50Loss': 0.21093839406967163}),\n",
       "             69219: defaultdict(None,\n",
       "                         {'RegressiveActivityDetectionTask-BrouhahaSpeakerDiarizationNoisySpeakerDiarization-c50ValMetric': 6.918907642364502,\n",
       "                          'RegressiveActivityDetectionTask-BrouhahaSpeakerDiarizationNoisySpeakerDiarization-snrValMetric': 4.833281517028809,\n",
       "                          'RegressiveActivityDetectionTask-BrouhahaSpeakerDiarizationNoisySpeakerDiarization-vadOptiTh': 0.4000008702278137,\n",
       "                          'RegressiveActivityDetectionTask-BrouhahaSpeakerDiarizationNoisySpeakerDiarization-vadValMetric': 0.9689599275588989,\n",
       "                          'RegressiveActivityDetectionTask-BrouhahaSpeakerDiarizationNoisySpeakerDiarization-ValidationMetric': 0.08290943503379822,\n",
       "                          'epoch': 3.0,\n",
       "                          'RegressiveActivityDetectionTask-BrouhahaSpeakerDiarizationNoisySpeakerDiarization-TrainLoss': 0.6045764684677124,\n",
       "                          'RegressiveActivityDetectionTask-BrouhahaSpeakerDiarizationNoisySpeakerDiarization-vadLoss': 0.17567694187164307,\n",
       "                          'RegressiveActivityDetectionTask-BrouhahaSpeakerDiarizationNoisySpeakerDiarization-snrLoss': 0.22564546763896942,\n",
       "                          'RegressiveActivityDetectionTask-BrouhahaSpeakerDiarizationNoisySpeakerDiarization-c50Loss': 0.2032540887594223}),\n",
       "             86524: defaultdict(None,\n",
       "                         {'RegressiveActivityDetectionTask-BrouhahaSpeakerDiarizationNoisySpeakerDiarization-c50ValMetric': 6.2605509757995605,\n",
       "                          'RegressiveActivityDetectionTask-BrouhahaSpeakerDiarizationNoisySpeakerDiarization-snrValMetric': 4.620019912719727,\n",
       "                          'RegressiveActivityDetectionTask-BrouhahaSpeakerDiarizationNoisySpeakerDiarization-vadOptiTh': 0.43999961018562317,\n",
       "                          'RegressiveActivityDetectionTask-BrouhahaSpeakerDiarizationNoisySpeakerDiarization-vadValMetric': 0.9694178700447083,\n",
       "                          'RegressiveActivityDetectionTask-BrouhahaSpeakerDiarizationNoisySpeakerDiarization-ValidationMetric': 0.07789243012666702,\n",
       "                          'epoch': 4.0,\n",
       "                          'RegressiveActivityDetectionTask-BrouhahaSpeakerDiarizationNoisySpeakerDiarization-TrainLoss': 0.5941056609153748,\n",
       "                          'RegressiveActivityDetectionTask-BrouhahaSpeakerDiarizationNoisySpeakerDiarization-vadLoss': 0.1733509600162506,\n",
       "                          'RegressiveActivityDetectionTask-BrouhahaSpeakerDiarizationNoisySpeakerDiarization-snrLoss': 0.22288905084133148,\n",
       "                          'RegressiveActivityDetectionTask-BrouhahaSpeakerDiarizationNoisySpeakerDiarization-c50Loss': 0.197865292429924}),\n",
       "             103829: defaultdict(None,\n",
       "                         {'RegressiveActivityDetectionTask-BrouhahaSpeakerDiarizationNoisySpeakerDiarization-c50ValMetric': 6.243754863739014,\n",
       "                          'RegressiveActivityDetectionTask-BrouhahaSpeakerDiarizationNoisySpeakerDiarization-snrValMetric': 4.5654497146606445,\n",
       "                          'RegressiveActivityDetectionTask-BrouhahaSpeakerDiarizationNoisySpeakerDiarization-vadOptiTh': 0.41999921202659607,\n",
       "                          'RegressiveActivityDetectionTask-BrouhahaSpeakerDiarizationNoisySpeakerDiarization-vadValMetric': 0.9691687226295471,\n",
       "                          'RegressiveActivityDetectionTask-BrouhahaSpeakerDiarizationNoisySpeakerDiarization-ValidationMetric': 0.0773804634809494,\n",
       "                          'epoch': 5.0,\n",
       "                          'RegressiveActivityDetectionTask-BrouhahaSpeakerDiarizationNoisySpeakerDiarization-TrainLoss': 0.5847392082214355,\n",
       "                          'RegressiveActivityDetectionTask-BrouhahaSpeakerDiarizationNoisySpeakerDiarization-vadLoss': 0.17108222842216492,\n",
       "                          'RegressiveActivityDetectionTask-BrouhahaSpeakerDiarizationNoisySpeakerDiarization-snrLoss': 0.22080545127391815,\n",
       "                          'RegressiveActivityDetectionTask-BrouhahaSpeakerDiarizationNoisySpeakerDiarization-c50Loss': 0.1928529292345047})})"
      ]
     },
     "execution_count": 79,
     "metadata": {},
     "output_type": "execute_result"
    }
   ],
   "source": [
    "# get all train and validation metric into a dict\n",
    "data = defaultdict()\n",
    "t = tf.compat.v1.train.summary_iterator(events)\n",
    "next(t)\n",
    "for index, e in enumerate(t):\n",
    "    if e.summary.value[0].tag in get_values:\n",
    "        data[e.step] = defaultdict()\n",
    "\n",
    "t = tf.compat.v1.train.summary_iterator(events)\n",
    "next(t)\n",
    "for index, e in enumerate(t):\n",
    "    if e.summary.value[0].tag in get_values:\n",
    "        data[e.step][e.summary.value[0].tag] = e.summary.value[0].simple_value\n",
    "data"
   ]
  },
  {
   "cell_type": "code",
   "execution_count": 80,
   "metadata": {},
   "outputs": [
    {
     "data": {
      "text/plain": [
       "defaultdict(None,\n",
       "            {17304: 0.08563175052404404,\n",
       "             34609: 0.0819566398859024,\n",
       "             51914: 0.08015069365501404,\n",
       "             69219: 0.08290943503379822,\n",
       "             86524: 0.07789243012666702,\n",
       "             103829: 0.0773804634809494})"
      ]
     },
     "execution_count": 80,
     "metadata": {},
     "output_type": "execute_result"
    }
   ],
   "source": [
    "validation_metric = defaultdict()\n",
    "val_metric = \"RegressiveActivityDetectionTask-BrouhahaSpeakerDiarizationNoisySpeakerDiarization-ValidationMetric\"\n",
    "for key, value in data.items():\n",
    "    validation_metric[key] = value[val_metric]\n",
    "validation_metric"
   ]
  },
  {
   "cell_type": "code",
   "execution_count": 81,
   "metadata": {},
   "outputs": [
    {
     "name": "stdout",
     "output_type": "stream",
     "text": [
      "5.0\n",
      "0.41999921202659607\n"
     ]
    }
   ],
   "source": [
    "# find best validation metric step & best epoch\n",
    "\n",
    "best_step = min(validation_metric, key=validation_metric.get)\n",
    "best_epoch = data[best_step][\"epoch\"]\n",
    "opt_th = data[best_step][\"RegressiveActivityDetectionTask-BrouhahaSpeakerDiarizationNoisySpeakerDiarization-vadOptiTh\"]\n",
    "print(best_epoch)\n",
    "print(opt_th)"
   ]
  },
  {
   "cell_type": "code",
   "execution_count": 82,
   "metadata": {},
   "outputs": [
    {
     "data": {
      "text/plain": [
       "defaultdict(None,\n",
       "            {17304: defaultdict(None,\n",
       "                         {'RegressiveActivityDetectionTask-BrouhahaSpeakerDiarizationNoisySpeakerDiarization-c50ValMetric': 7.100375175476074,\n",
       "                          'RegressiveActivityDetectionTask-BrouhahaSpeakerDiarizationNoisySpeakerDiarization-snrValMetric': 4.93427848815918,\n",
       "                          'RegressiveActivityDetectionTask-BrouhahaSpeakerDiarizationNoisySpeakerDiarization-vadOptiTh': 0.41999921202659607,\n",
       "                          'RegressiveActivityDetectionTask-BrouhahaSpeakerDiarizationNoisySpeakerDiarization-vadValMetric': 0.9657612442970276,\n",
       "                          'RegressiveActivityDetectionTask-BrouhahaSpeakerDiarizationNoisySpeakerDiarization-ValidationMetric': 0.08563175052404404,\n",
       "                          'epoch': 0.0,\n",
       "                          'RegressiveActivityDetectionTask-BrouhahaSpeakerDiarizationNoisySpeakerDiarization-TrainLoss': 0.7604008913040161,\n",
       "                          'RegressiveActivityDetectionTask-BrouhahaSpeakerDiarizationNoisySpeakerDiarization-vadLoss': 0.21256259083747864,\n",
       "                          'RegressiveActivityDetectionTask-BrouhahaSpeakerDiarizationNoisySpeakerDiarization-snrLoss': 0.26588645577430725,\n",
       "                          'RegressiveActivityDetectionTask-BrouhahaSpeakerDiarizationNoisySpeakerDiarization-c50Loss': 0.2819504737854004}),\n",
       "             34609: defaultdict(None,\n",
       "                         {'RegressiveActivityDetectionTask-BrouhahaSpeakerDiarizationNoisySpeakerDiarization-c50ValMetric': 6.799254894256592,\n",
       "                          'RegressiveActivityDetectionTask-BrouhahaSpeakerDiarizationNoisySpeakerDiarization-snrValMetric': 4.724829196929932,\n",
       "                          'RegressiveActivityDetectionTask-BrouhahaSpeakerDiarizationNoisySpeakerDiarization-vadOptiTh': 0.4000008702278137,\n",
       "                          'RegressiveActivityDetectionTask-BrouhahaSpeakerDiarizationNoisySpeakerDiarization-vadValMetric': 0.9673071503639221,\n",
       "                          'RegressiveActivityDetectionTask-BrouhahaSpeakerDiarizationNoisySpeakerDiarization-ValidationMetric': 0.0819566398859024,\n",
       "                          'epoch': 1.0,\n",
       "                          'RegressiveActivityDetectionTask-BrouhahaSpeakerDiarizationNoisySpeakerDiarization-TrainLoss': 0.643723726272583,\n",
       "                          'RegressiveActivityDetectionTask-BrouhahaSpeakerDiarizationNoisySpeakerDiarization-vadLoss': 0.18584169447422028,\n",
       "                          'RegressiveActivityDetectionTask-BrouhahaSpeakerDiarizationNoisySpeakerDiarization-snrLoss': 0.23413221538066864,\n",
       "                          'RegressiveActivityDetectionTask-BrouhahaSpeakerDiarizationNoisySpeakerDiarization-c50Loss': 0.22374965250492096}),\n",
       "             51914: defaultdict(None,\n",
       "                         {'RegressiveActivityDetectionTask-BrouhahaSpeakerDiarizationNoisySpeakerDiarization-c50ValMetric': 6.623837471008301,\n",
       "                          'RegressiveActivityDetectionTask-BrouhahaSpeakerDiarizationNoisySpeakerDiarization-snrValMetric': 4.64404296875,\n",
       "                          'RegressiveActivityDetectionTask-BrouhahaSpeakerDiarizationNoisySpeakerDiarization-vadOptiTh': 0.29999980330467224,\n",
       "                          'RegressiveActivityDetectionTask-BrouhahaSpeakerDiarizationNoisySpeakerDiarization-vadValMetric': 0.9683135747909546,\n",
       "                          'RegressiveActivityDetectionTask-BrouhahaSpeakerDiarizationNoisySpeakerDiarization-ValidationMetric': 0.08015069365501404,\n",
       "                          'epoch': 2.0,\n",
       "                          'RegressiveActivityDetectionTask-BrouhahaSpeakerDiarizationNoisySpeakerDiarization-TrainLoss': 0.6190371513366699,\n",
       "                          'RegressiveActivityDetectionTask-BrouhahaSpeakerDiarizationNoisySpeakerDiarization-vadLoss': 0.17989492416381836,\n",
       "                          'RegressiveActivityDetectionTask-BrouhahaSpeakerDiarizationNoisySpeakerDiarization-snrLoss': 0.22820326685905457,\n",
       "                          'RegressiveActivityDetectionTask-BrouhahaSpeakerDiarizationNoisySpeakerDiarization-c50Loss': 0.21093839406967163}),\n",
       "             69219: defaultdict(None,\n",
       "                         {'RegressiveActivityDetectionTask-BrouhahaSpeakerDiarizationNoisySpeakerDiarization-c50ValMetric': 6.918907642364502,\n",
       "                          'RegressiveActivityDetectionTask-BrouhahaSpeakerDiarizationNoisySpeakerDiarization-snrValMetric': 4.833281517028809,\n",
       "                          'RegressiveActivityDetectionTask-BrouhahaSpeakerDiarizationNoisySpeakerDiarization-vadOptiTh': 0.4000008702278137,\n",
       "                          'RegressiveActivityDetectionTask-BrouhahaSpeakerDiarizationNoisySpeakerDiarization-vadValMetric': 0.9689599275588989,\n",
       "                          'RegressiveActivityDetectionTask-BrouhahaSpeakerDiarizationNoisySpeakerDiarization-ValidationMetric': 0.08290943503379822,\n",
       "                          'epoch': 3.0,\n",
       "                          'RegressiveActivityDetectionTask-BrouhahaSpeakerDiarizationNoisySpeakerDiarization-TrainLoss': 0.6045764684677124,\n",
       "                          'RegressiveActivityDetectionTask-BrouhahaSpeakerDiarizationNoisySpeakerDiarization-vadLoss': 0.17567694187164307,\n",
       "                          'RegressiveActivityDetectionTask-BrouhahaSpeakerDiarizationNoisySpeakerDiarization-snrLoss': 0.22564546763896942,\n",
       "                          'RegressiveActivityDetectionTask-BrouhahaSpeakerDiarizationNoisySpeakerDiarization-c50Loss': 0.2032540887594223}),\n",
       "             86524: defaultdict(None,\n",
       "                         {'RegressiveActivityDetectionTask-BrouhahaSpeakerDiarizationNoisySpeakerDiarization-c50ValMetric': 6.2605509757995605,\n",
       "                          'RegressiveActivityDetectionTask-BrouhahaSpeakerDiarizationNoisySpeakerDiarization-snrValMetric': 4.620019912719727,\n",
       "                          'RegressiveActivityDetectionTask-BrouhahaSpeakerDiarizationNoisySpeakerDiarization-vadOptiTh': 0.43999961018562317,\n",
       "                          'RegressiveActivityDetectionTask-BrouhahaSpeakerDiarizationNoisySpeakerDiarization-vadValMetric': 0.9694178700447083,\n",
       "                          'RegressiveActivityDetectionTask-BrouhahaSpeakerDiarizationNoisySpeakerDiarization-ValidationMetric': 0.07789243012666702,\n",
       "                          'epoch': 4.0,\n",
       "                          'RegressiveActivityDetectionTask-BrouhahaSpeakerDiarizationNoisySpeakerDiarization-TrainLoss': 0.5941056609153748,\n",
       "                          'RegressiveActivityDetectionTask-BrouhahaSpeakerDiarizationNoisySpeakerDiarization-vadLoss': 0.1733509600162506,\n",
       "                          'RegressiveActivityDetectionTask-BrouhahaSpeakerDiarizationNoisySpeakerDiarization-snrLoss': 0.22288905084133148,\n",
       "                          'RegressiveActivityDetectionTask-BrouhahaSpeakerDiarizationNoisySpeakerDiarization-c50Loss': 0.197865292429924}),\n",
       "             103829: defaultdict(None,\n",
       "                         {'RegressiveActivityDetectionTask-BrouhahaSpeakerDiarizationNoisySpeakerDiarization-c50ValMetric': 6.243754863739014,\n",
       "                          'RegressiveActivityDetectionTask-BrouhahaSpeakerDiarizationNoisySpeakerDiarization-snrValMetric': 4.5654497146606445,\n",
       "                          'RegressiveActivityDetectionTask-BrouhahaSpeakerDiarizationNoisySpeakerDiarization-vadOptiTh': 0.41999921202659607,\n",
       "                          'RegressiveActivityDetectionTask-BrouhahaSpeakerDiarizationNoisySpeakerDiarization-vadValMetric': 0.9691687226295471,\n",
       "                          'RegressiveActivityDetectionTask-BrouhahaSpeakerDiarizationNoisySpeakerDiarization-ValidationMetric': 0.0773804634809494,\n",
       "                          'epoch': 5.0,\n",
       "                          'RegressiveActivityDetectionTask-BrouhahaSpeakerDiarizationNoisySpeakerDiarization-TrainLoss': 0.5847392082214355,\n",
       "                          'RegressiveActivityDetectionTask-BrouhahaSpeakerDiarizationNoisySpeakerDiarization-vadLoss': 0.17108222842216492,\n",
       "                          'RegressiveActivityDetectionTask-BrouhahaSpeakerDiarizationNoisySpeakerDiarization-snrLoss': 0.22080545127391815,\n",
       "                          'RegressiveActivityDetectionTask-BrouhahaSpeakerDiarizationNoisySpeakerDiarization-c50Loss': 0.1928529292345047})})"
      ]
     },
     "execution_count": 82,
     "metadata": {},
     "output_type": "execute_result"
    }
   ],
   "source": [
    "data"
   ]
  },
  {
   "cell_type": "code",
   "execution_count": 83,
   "metadata": {},
   "outputs": [],
   "source": [
    "corrected_data = dict()\n",
    "for values in data.values():\n",
    "    epoch = values.pop(\"epoch\")\n",
    "    corrected_data[epoch] = values"
   ]
  },
  {
   "cell_type": "code",
   "execution_count": 84,
   "metadata": {},
   "outputs": [
    {
     "data": {
      "text/plain": [
       "{0.0: defaultdict(None,\n",
       "             {'RegressiveActivityDetectionTask-BrouhahaSpeakerDiarizationNoisySpeakerDiarization-c50ValMetric': 7.100375175476074,\n",
       "              'RegressiveActivityDetectionTask-BrouhahaSpeakerDiarizationNoisySpeakerDiarization-snrValMetric': 4.93427848815918,\n",
       "              'RegressiveActivityDetectionTask-BrouhahaSpeakerDiarizationNoisySpeakerDiarization-vadOptiTh': 0.41999921202659607,\n",
       "              'RegressiveActivityDetectionTask-BrouhahaSpeakerDiarizationNoisySpeakerDiarization-vadValMetric': 0.9657612442970276,\n",
       "              'RegressiveActivityDetectionTask-BrouhahaSpeakerDiarizationNoisySpeakerDiarization-ValidationMetric': 0.08563175052404404,\n",
       "              'RegressiveActivityDetectionTask-BrouhahaSpeakerDiarizationNoisySpeakerDiarization-TrainLoss': 0.7604008913040161,\n",
       "              'RegressiveActivityDetectionTask-BrouhahaSpeakerDiarizationNoisySpeakerDiarization-vadLoss': 0.21256259083747864,\n",
       "              'RegressiveActivityDetectionTask-BrouhahaSpeakerDiarizationNoisySpeakerDiarization-snrLoss': 0.26588645577430725,\n",
       "              'RegressiveActivityDetectionTask-BrouhahaSpeakerDiarizationNoisySpeakerDiarization-c50Loss': 0.2819504737854004}),\n",
       " 1.0: defaultdict(None,\n",
       "             {'RegressiveActivityDetectionTask-BrouhahaSpeakerDiarizationNoisySpeakerDiarization-c50ValMetric': 6.799254894256592,\n",
       "              'RegressiveActivityDetectionTask-BrouhahaSpeakerDiarizationNoisySpeakerDiarization-snrValMetric': 4.724829196929932,\n",
       "              'RegressiveActivityDetectionTask-BrouhahaSpeakerDiarizationNoisySpeakerDiarization-vadOptiTh': 0.4000008702278137,\n",
       "              'RegressiveActivityDetectionTask-BrouhahaSpeakerDiarizationNoisySpeakerDiarization-vadValMetric': 0.9673071503639221,\n",
       "              'RegressiveActivityDetectionTask-BrouhahaSpeakerDiarizationNoisySpeakerDiarization-ValidationMetric': 0.0819566398859024,\n",
       "              'RegressiveActivityDetectionTask-BrouhahaSpeakerDiarizationNoisySpeakerDiarization-TrainLoss': 0.643723726272583,\n",
       "              'RegressiveActivityDetectionTask-BrouhahaSpeakerDiarizationNoisySpeakerDiarization-vadLoss': 0.18584169447422028,\n",
       "              'RegressiveActivityDetectionTask-BrouhahaSpeakerDiarizationNoisySpeakerDiarization-snrLoss': 0.23413221538066864,\n",
       "              'RegressiveActivityDetectionTask-BrouhahaSpeakerDiarizationNoisySpeakerDiarization-c50Loss': 0.22374965250492096}),\n",
       " 2.0: defaultdict(None,\n",
       "             {'RegressiveActivityDetectionTask-BrouhahaSpeakerDiarizationNoisySpeakerDiarization-c50ValMetric': 6.623837471008301,\n",
       "              'RegressiveActivityDetectionTask-BrouhahaSpeakerDiarizationNoisySpeakerDiarization-snrValMetric': 4.64404296875,\n",
       "              'RegressiveActivityDetectionTask-BrouhahaSpeakerDiarizationNoisySpeakerDiarization-vadOptiTh': 0.29999980330467224,\n",
       "              'RegressiveActivityDetectionTask-BrouhahaSpeakerDiarizationNoisySpeakerDiarization-vadValMetric': 0.9683135747909546,\n",
       "              'RegressiveActivityDetectionTask-BrouhahaSpeakerDiarizationNoisySpeakerDiarization-ValidationMetric': 0.08015069365501404,\n",
       "              'RegressiveActivityDetectionTask-BrouhahaSpeakerDiarizationNoisySpeakerDiarization-TrainLoss': 0.6190371513366699,\n",
       "              'RegressiveActivityDetectionTask-BrouhahaSpeakerDiarizationNoisySpeakerDiarization-vadLoss': 0.17989492416381836,\n",
       "              'RegressiveActivityDetectionTask-BrouhahaSpeakerDiarizationNoisySpeakerDiarization-snrLoss': 0.22820326685905457,\n",
       "              'RegressiveActivityDetectionTask-BrouhahaSpeakerDiarizationNoisySpeakerDiarization-c50Loss': 0.21093839406967163}),\n",
       " 3.0: defaultdict(None,\n",
       "             {'RegressiveActivityDetectionTask-BrouhahaSpeakerDiarizationNoisySpeakerDiarization-c50ValMetric': 6.918907642364502,\n",
       "              'RegressiveActivityDetectionTask-BrouhahaSpeakerDiarizationNoisySpeakerDiarization-snrValMetric': 4.833281517028809,\n",
       "              'RegressiveActivityDetectionTask-BrouhahaSpeakerDiarizationNoisySpeakerDiarization-vadOptiTh': 0.4000008702278137,\n",
       "              'RegressiveActivityDetectionTask-BrouhahaSpeakerDiarizationNoisySpeakerDiarization-vadValMetric': 0.9689599275588989,\n",
       "              'RegressiveActivityDetectionTask-BrouhahaSpeakerDiarizationNoisySpeakerDiarization-ValidationMetric': 0.08290943503379822,\n",
       "              'RegressiveActivityDetectionTask-BrouhahaSpeakerDiarizationNoisySpeakerDiarization-TrainLoss': 0.6045764684677124,\n",
       "              'RegressiveActivityDetectionTask-BrouhahaSpeakerDiarizationNoisySpeakerDiarization-vadLoss': 0.17567694187164307,\n",
       "              'RegressiveActivityDetectionTask-BrouhahaSpeakerDiarizationNoisySpeakerDiarization-snrLoss': 0.22564546763896942,\n",
       "              'RegressiveActivityDetectionTask-BrouhahaSpeakerDiarizationNoisySpeakerDiarization-c50Loss': 0.2032540887594223}),\n",
       " 4.0: defaultdict(None,\n",
       "             {'RegressiveActivityDetectionTask-BrouhahaSpeakerDiarizationNoisySpeakerDiarization-c50ValMetric': 6.2605509757995605,\n",
       "              'RegressiveActivityDetectionTask-BrouhahaSpeakerDiarizationNoisySpeakerDiarization-snrValMetric': 4.620019912719727,\n",
       "              'RegressiveActivityDetectionTask-BrouhahaSpeakerDiarizationNoisySpeakerDiarization-vadOptiTh': 0.43999961018562317,\n",
       "              'RegressiveActivityDetectionTask-BrouhahaSpeakerDiarizationNoisySpeakerDiarization-vadValMetric': 0.9694178700447083,\n",
       "              'RegressiveActivityDetectionTask-BrouhahaSpeakerDiarizationNoisySpeakerDiarization-ValidationMetric': 0.07789243012666702,\n",
       "              'RegressiveActivityDetectionTask-BrouhahaSpeakerDiarizationNoisySpeakerDiarization-TrainLoss': 0.5941056609153748,\n",
       "              'RegressiveActivityDetectionTask-BrouhahaSpeakerDiarizationNoisySpeakerDiarization-vadLoss': 0.1733509600162506,\n",
       "              'RegressiveActivityDetectionTask-BrouhahaSpeakerDiarizationNoisySpeakerDiarization-snrLoss': 0.22288905084133148,\n",
       "              'RegressiveActivityDetectionTask-BrouhahaSpeakerDiarizationNoisySpeakerDiarization-c50Loss': 0.197865292429924}),\n",
       " 5.0: defaultdict(None,\n",
       "             {'RegressiveActivityDetectionTask-BrouhahaSpeakerDiarizationNoisySpeakerDiarization-c50ValMetric': 6.243754863739014,\n",
       "              'RegressiveActivityDetectionTask-BrouhahaSpeakerDiarizationNoisySpeakerDiarization-snrValMetric': 4.5654497146606445,\n",
       "              'RegressiveActivityDetectionTask-BrouhahaSpeakerDiarizationNoisySpeakerDiarization-vadOptiTh': 0.41999921202659607,\n",
       "              'RegressiveActivityDetectionTask-BrouhahaSpeakerDiarizationNoisySpeakerDiarization-vadValMetric': 0.9691687226295471,\n",
       "              'RegressiveActivityDetectionTask-BrouhahaSpeakerDiarizationNoisySpeakerDiarization-ValidationMetric': 0.0773804634809494,\n",
       "              'RegressiveActivityDetectionTask-BrouhahaSpeakerDiarizationNoisySpeakerDiarization-TrainLoss': 0.5847392082214355,\n",
       "              'RegressiveActivityDetectionTask-BrouhahaSpeakerDiarizationNoisySpeakerDiarization-vadLoss': 0.17108222842216492,\n",
       "              'RegressiveActivityDetectionTask-BrouhahaSpeakerDiarizationNoisySpeakerDiarization-snrLoss': 0.22080545127391815,\n",
       "              'RegressiveActivityDetectionTask-BrouhahaSpeakerDiarizationNoisySpeakerDiarization-c50Loss': 0.1928529292345047})}"
      ]
     },
     "execution_count": 84,
     "metadata": {},
     "output_type": "execute_result"
    }
   ],
   "source": [
    "corrected_data"
   ]
  },
  {
   "cell_type": "code",
   "execution_count": 85,
   "metadata": {},
   "outputs": [],
   "source": [
    "with open(\"../lightning_logs/all_model_1/config.yaml\", \"r\") as file:\n",
    "    config = yaml.load(file, Loader=yaml.loader.SafeLoader)\n"
   ]
  },
  {
   "cell_type": "code",
   "execution_count": 86,
   "metadata": {},
   "outputs": [
    {
     "data": {
      "text/plain": [
       "defaultdict(None,\n",
       "            {0.0: 0.08563175052404404,\n",
       "             1.0: 0.0819566398859024,\n",
       "             2.0: 0.08015069365501404,\n",
       "             3.0: 0.08290943503379822,\n",
       "             4.0: 0.07789243012666702,\n",
       "             5.0: 0.0773804634809494})"
      ]
     },
     "execution_count": 86,
     "metadata": {},
     "output_type": "execute_result"
    }
   ],
   "source": [
    "validation_metric = defaultdict()\n",
    "val_metric = \"RegressiveActivityDetectionTask-BrouhahaSpeakerDiarizationNoisySpeakerDiarization-ValidationMetric\"\n",
    "for key, value in corrected_data.items():\n",
    "    validation_metric[key] = value[val_metric]\n",
    "validation_metric"
   ]
  },
  {
   "cell_type": "code",
   "execution_count": 87,
   "metadata": {},
   "outputs": [
    {
     "data": {
      "text/plain": [
       "5.0"
      ]
     },
     "execution_count": 87,
     "metadata": {},
     "output_type": "execute_result"
    }
   ],
   "source": [
    "best_epoch = min(validation_metric, key=validation_metric.get)\n",
    "best_epoch"
   ]
  },
  {
   "cell_type": "code",
   "execution_count": 88,
   "metadata": {},
   "outputs": [],
   "source": [
    "metrics = corrected_data[best_epoch]\n",
    "metrics = dict(metrics)"
   ]
  },
  {
   "cell_type": "code",
   "execution_count": 89,
   "metadata": {},
   "outputs": [],
   "source": [
    "config\n",
    "gs_params = {'duration': config['task']['duration'],\n",
    "             'batch_size': config['task']['batch_size'],\n",
    "             'hidden_size': config['architecture']['lstm']['hidden_size'],\n",
    "             'num_layers': config['architecture']['lstm']['num_layers'],\n",
    "             'dropout': config['architecture']['lstm']['dropout'],\n",
    "             'stride': config['architecture']['sincnet']['stride']}"
   ]
  },
  {
   "cell_type": "code",
   "execution_count": 90,
   "metadata": {},
   "outputs": [],
   "source": [
    "final = {**gs_params, **metrics}"
   ]
  },
  {
   "cell_type": "code",
   "execution_count": 91,
   "metadata": {},
   "outputs": [
    {
     "data": {
      "text/plain": [
       "{'duration': 2,\n",
       " 'batch_size': 128,\n",
       " 'hidden_size': 128,\n",
       " 'num_layers': 2,\n",
       " 'dropout': 0,\n",
       " 'stride': 10,\n",
       " 'RegressiveActivityDetectionTask-BrouhahaSpeakerDiarizationNoisySpeakerDiarization-c50ValMetric': 6.243754863739014,\n",
       " 'RegressiveActivityDetectionTask-BrouhahaSpeakerDiarizationNoisySpeakerDiarization-snrValMetric': 4.5654497146606445,\n",
       " 'RegressiveActivityDetectionTask-BrouhahaSpeakerDiarizationNoisySpeakerDiarization-vadOptiTh': 0.41999921202659607,\n",
       " 'RegressiveActivityDetectionTask-BrouhahaSpeakerDiarizationNoisySpeakerDiarization-vadValMetric': 0.9691687226295471,\n",
       " 'RegressiveActivityDetectionTask-BrouhahaSpeakerDiarizationNoisySpeakerDiarization-ValidationMetric': 0.0773804634809494,\n",
       " 'RegressiveActivityDetectionTask-BrouhahaSpeakerDiarizationNoisySpeakerDiarization-TrainLoss': 0.5847392082214355,\n",
       " 'RegressiveActivityDetectionTask-BrouhahaSpeakerDiarizationNoisySpeakerDiarization-vadLoss': 0.17108222842216492,\n",
       " 'RegressiveActivityDetectionTask-BrouhahaSpeakerDiarizationNoisySpeakerDiarization-snrLoss': 0.22080545127391815,\n",
       " 'RegressiveActivityDetectionTask-BrouhahaSpeakerDiarizationNoisySpeakerDiarization-c50Loss': 0.1928529292345047,\n",
       " 'name': 'test'}"
      ]
     },
     "execution_count": 91,
     "metadata": {},
     "output_type": "execute_result"
    }
   ],
   "source": [
    "final['name'] = 'test'\n",
    "final"
   ]
  },
  {
   "cell_type": "code",
   "execution_count": 92,
   "metadata": {},
   "outputs": [],
   "source": [
    "df = pd.DataFrame.from_dict(final, orient=\"index\")"
   ]
  },
  {
   "cell_type": "code",
   "execution_count": 93,
   "metadata": {},
   "outputs": [
    {
     "data": {
      "text/html": [
       "<div>\n",
       "<style scoped>\n",
       "    .dataframe tbody tr th:only-of-type {\n",
       "        vertical-align: middle;\n",
       "    }\n",
       "\n",
       "    .dataframe tbody tr th {\n",
       "        vertical-align: top;\n",
       "    }\n",
       "\n",
       "    .dataframe thead th {\n",
       "        text-align: right;\n",
       "    }\n",
       "</style>\n",
       "<table border=\"1\" class=\"dataframe\">\n",
       "  <thead>\n",
       "    <tr style=\"text-align: right;\">\n",
       "      <th></th>\n",
       "      <th>0</th>\n",
       "    </tr>\n",
       "  </thead>\n",
       "  <tbody>\n",
       "    <tr>\n",
       "      <th>duration</th>\n",
       "      <td>2</td>\n",
       "    </tr>\n",
       "    <tr>\n",
       "      <th>batch_size</th>\n",
       "      <td>128</td>\n",
       "    </tr>\n",
       "    <tr>\n",
       "      <th>hidden_size</th>\n",
       "      <td>128</td>\n",
       "    </tr>\n",
       "    <tr>\n",
       "      <th>num_layers</th>\n",
       "      <td>2</td>\n",
       "    </tr>\n",
       "    <tr>\n",
       "      <th>dropout</th>\n",
       "      <td>0</td>\n",
       "    </tr>\n",
       "    <tr>\n",
       "      <th>stride</th>\n",
       "      <td>10</td>\n",
       "    </tr>\n",
       "    <tr>\n",
       "      <th>RegressiveActivityDetectionTask-BrouhahaSpeakerDiarizationNoisySpeakerDiarization-c50ValMetric</th>\n",
       "      <td>6.243755</td>\n",
       "    </tr>\n",
       "    <tr>\n",
       "      <th>RegressiveActivityDetectionTask-BrouhahaSpeakerDiarizationNoisySpeakerDiarization-snrValMetric</th>\n",
       "      <td>4.56545</td>\n",
       "    </tr>\n",
       "    <tr>\n",
       "      <th>RegressiveActivityDetectionTask-BrouhahaSpeakerDiarizationNoisySpeakerDiarization-vadOptiTh</th>\n",
       "      <td>0.419999</td>\n",
       "    </tr>\n",
       "    <tr>\n",
       "      <th>RegressiveActivityDetectionTask-BrouhahaSpeakerDiarizationNoisySpeakerDiarization-vadValMetric</th>\n",
       "      <td>0.969169</td>\n",
       "    </tr>\n",
       "    <tr>\n",
       "      <th>RegressiveActivityDetectionTask-BrouhahaSpeakerDiarizationNoisySpeakerDiarization-ValidationMetric</th>\n",
       "      <td>0.07738</td>\n",
       "    </tr>\n",
       "    <tr>\n",
       "      <th>RegressiveActivityDetectionTask-BrouhahaSpeakerDiarizationNoisySpeakerDiarization-TrainLoss</th>\n",
       "      <td>0.584739</td>\n",
       "    </tr>\n",
       "    <tr>\n",
       "      <th>RegressiveActivityDetectionTask-BrouhahaSpeakerDiarizationNoisySpeakerDiarization-vadLoss</th>\n",
       "      <td>0.171082</td>\n",
       "    </tr>\n",
       "    <tr>\n",
       "      <th>RegressiveActivityDetectionTask-BrouhahaSpeakerDiarizationNoisySpeakerDiarization-snrLoss</th>\n",
       "      <td>0.220805</td>\n",
       "    </tr>\n",
       "    <tr>\n",
       "      <th>RegressiveActivityDetectionTask-BrouhahaSpeakerDiarizationNoisySpeakerDiarization-c50Loss</th>\n",
       "      <td>0.192853</td>\n",
       "    </tr>\n",
       "    <tr>\n",
       "      <th>name</th>\n",
       "      <td>test</td>\n",
       "    </tr>\n",
       "  </tbody>\n",
       "</table>\n",
       "</div>"
      ],
      "text/plain": [
       "                                                           0\n",
       "duration                                                   2\n",
       "batch_size                                               128\n",
       "hidden_size                                              128\n",
       "num_layers                                                 2\n",
       "dropout                                                    0\n",
       "stride                                                    10\n",
       "RegressiveActivityDetectionTask-BrouhahaSpeaker...  6.243755\n",
       "RegressiveActivityDetectionTask-BrouhahaSpeaker...   4.56545\n",
       "RegressiveActivityDetectionTask-BrouhahaSpeaker...  0.419999\n",
       "RegressiveActivityDetectionTask-BrouhahaSpeaker...  0.969169\n",
       "RegressiveActivityDetectionTask-BrouhahaSpeaker...   0.07738\n",
       "RegressiveActivityDetectionTask-BrouhahaSpeaker...  0.584739\n",
       "RegressiveActivityDetectionTask-BrouhahaSpeaker...  0.171082\n",
       "RegressiveActivityDetectionTask-BrouhahaSpeaker...  0.220805\n",
       "RegressiveActivityDetectionTask-BrouhahaSpeaker...  0.192853\n",
       "name                                                    test"
      ]
     },
     "execution_count": 93,
     "metadata": {},
     "output_type": "execute_result"
    }
   ],
   "source": [
    "df"
   ]
  },
  {
   "cell_type": "code",
   "execution_count": 94,
   "metadata": {},
   "outputs": [],
   "source": [
    "f = dict()\n",
    "for key, values in final.items():\n",
    "    f[key] = [values]"
   ]
  },
  {
   "cell_type": "code",
   "execution_count": 95,
   "metadata": {},
   "outputs": [
    {
     "data": {
      "text/html": [
       "<div>\n",
       "<style scoped>\n",
       "    .dataframe tbody tr th:only-of-type {\n",
       "        vertical-align: middle;\n",
       "    }\n",
       "\n",
       "    .dataframe tbody tr th {\n",
       "        vertical-align: top;\n",
       "    }\n",
       "\n",
       "    .dataframe thead th {\n",
       "        text-align: right;\n",
       "    }\n",
       "</style>\n",
       "<table border=\"1\" class=\"dataframe\">\n",
       "  <thead>\n",
       "    <tr style=\"text-align: right;\">\n",
       "      <th></th>\n",
       "      <th>duration</th>\n",
       "      <th>batch_size</th>\n",
       "      <th>hidden_size</th>\n",
       "      <th>num_layers</th>\n",
       "      <th>dropout</th>\n",
       "      <th>stride</th>\n",
       "      <th>RegressiveActivityDetectionTask-BrouhahaSpeakerDiarizationNoisySpeakerDiarization-c50ValMetric</th>\n",
       "      <th>RegressiveActivityDetectionTask-BrouhahaSpeakerDiarizationNoisySpeakerDiarization-snrValMetric</th>\n",
       "      <th>RegressiveActivityDetectionTask-BrouhahaSpeakerDiarizationNoisySpeakerDiarization-vadOptiTh</th>\n",
       "      <th>RegressiveActivityDetectionTask-BrouhahaSpeakerDiarizationNoisySpeakerDiarization-vadValMetric</th>\n",
       "      <th>RegressiveActivityDetectionTask-BrouhahaSpeakerDiarizationNoisySpeakerDiarization-ValidationMetric</th>\n",
       "      <th>RegressiveActivityDetectionTask-BrouhahaSpeakerDiarizationNoisySpeakerDiarization-TrainLoss</th>\n",
       "      <th>RegressiveActivityDetectionTask-BrouhahaSpeakerDiarizationNoisySpeakerDiarization-vadLoss</th>\n",
       "      <th>RegressiveActivityDetectionTask-BrouhahaSpeakerDiarizationNoisySpeakerDiarization-snrLoss</th>\n",
       "      <th>RegressiveActivityDetectionTask-BrouhahaSpeakerDiarizationNoisySpeakerDiarization-c50Loss</th>\n",
       "      <th>name</th>\n",
       "    </tr>\n",
       "  </thead>\n",
       "  <tbody>\n",
       "    <tr>\n",
       "      <th>0</th>\n",
       "      <td>2</td>\n",
       "      <td>128</td>\n",
       "      <td>128</td>\n",
       "      <td>2</td>\n",
       "      <td>0</td>\n",
       "      <td>10</td>\n",
       "      <td>6.243755</td>\n",
       "      <td>4.56545</td>\n",
       "      <td>0.419999</td>\n",
       "      <td>0.969169</td>\n",
       "      <td>0.07738</td>\n",
       "      <td>0.584739</td>\n",
       "      <td>0.171082</td>\n",
       "      <td>0.220805</td>\n",
       "      <td>0.192853</td>\n",
       "      <td>test</td>\n",
       "    </tr>\n",
       "  </tbody>\n",
       "</table>\n",
       "</div>"
      ],
      "text/plain": [
       "   duration  batch_size  hidden_size  num_layers  dropout  stride  \\\n",
       "0         2         128          128           2        0      10   \n",
       "\n",
       "   RegressiveActivityDetectionTask-BrouhahaSpeakerDiarizationNoisySpeakerDiarization-c50ValMetric  \\\n",
       "0                                           6.243755                                                \n",
       "\n",
       "   RegressiveActivityDetectionTask-BrouhahaSpeakerDiarizationNoisySpeakerDiarization-snrValMetric  \\\n",
       "0                                            4.56545                                                \n",
       "\n",
       "   RegressiveActivityDetectionTask-BrouhahaSpeakerDiarizationNoisySpeakerDiarization-vadOptiTh  \\\n",
       "0                                           0.419999                                             \n",
       "\n",
       "   RegressiveActivityDetectionTask-BrouhahaSpeakerDiarizationNoisySpeakerDiarization-vadValMetric  \\\n",
       "0                                           0.969169                                                \n",
       "\n",
       "   RegressiveActivityDetectionTask-BrouhahaSpeakerDiarizationNoisySpeakerDiarization-ValidationMetric  \\\n",
       "0                                            0.07738                                                    \n",
       "\n",
       "   RegressiveActivityDetectionTask-BrouhahaSpeakerDiarizationNoisySpeakerDiarization-TrainLoss  \\\n",
       "0                                           0.584739                                             \n",
       "\n",
       "   RegressiveActivityDetectionTask-BrouhahaSpeakerDiarizationNoisySpeakerDiarization-vadLoss  \\\n",
       "0                                           0.171082                                           \n",
       "\n",
       "   RegressiveActivityDetectionTask-BrouhahaSpeakerDiarizationNoisySpeakerDiarization-snrLoss  \\\n",
       "0                                           0.220805                                           \n",
       "\n",
       "   RegressiveActivityDetectionTask-BrouhahaSpeakerDiarizationNoisySpeakerDiarization-c50Loss  \\\n",
       "0                                           0.192853                                           \n",
       "\n",
       "   name  \n",
       "0  test  "
      ]
     },
     "execution_count": 95,
     "metadata": {},
     "output_type": "execute_result"
    }
   ],
   "source": [
    "pd.DataFrame.from_dict(f)"
   ]
  },
  {
   "cell_type": "code",
   "execution_count": 96,
   "metadata": {},
   "outputs": [],
   "source": [
    "assert final.keys() == final_2.keys()"
   ]
  },
  {
   "cell_type": "code",
   "execution_count": 97,
   "metadata": {},
   "outputs": [
    {
     "data": {
      "text/plain": [
       "{'RegressiveActivityDetectionTask-BrouhahaSpeakerDiarizationNoisySpeakerDiarization-c50ValMetric': 6.243754863739014,\n",
       " 'RegressiveActivityDetectionTask-BrouhahaSpeakerDiarizationNoisySpeakerDiarization-snrValMetric': 4.5654497146606445,\n",
       " 'RegressiveActivityDetectionTask-BrouhahaSpeakerDiarizationNoisySpeakerDiarization-vadOptiTh': 0.41999921202659607,\n",
       " 'RegressiveActivityDetectionTask-BrouhahaSpeakerDiarizationNoisySpeakerDiarization-vadValMetric': 0.9691687226295471,\n",
       " 'RegressiveActivityDetectionTask-BrouhahaSpeakerDiarizationNoisySpeakerDiarization-ValidationMetric': 0.0773804634809494,\n",
       " 'RegressiveActivityDetectionTask-BrouhahaSpeakerDiarizationNoisySpeakerDiarization-TrainLoss': 0.5847392082214355,\n",
       " 'RegressiveActivityDetectionTask-BrouhahaSpeakerDiarizationNoisySpeakerDiarization-vadLoss': 0.17108222842216492,\n",
       " 'RegressiveActivityDetectionTask-BrouhahaSpeakerDiarizationNoisySpeakerDiarization-snrLoss': 0.22080545127391815,\n",
       " 'RegressiveActivityDetectionTask-BrouhahaSpeakerDiarizationNoisySpeakerDiarization-c50Loss': 0.1928529292345047}"
      ]
     },
     "execution_count": 97,
     "metadata": {},
     "output_type": "execute_result"
    }
   ],
   "source": [
    "metrics"
   ]
  },
  {
   "cell_type": "code",
   "execution_count": 98,
   "metadata": {},
   "outputs": [
    {
     "data": {
      "text/plain": [
       "5.0"
      ]
     },
     "execution_count": 98,
     "metadata": {},
     "output_type": "execute_result"
    }
   ],
   "source": [
    "best_epoch"
   ]
  },
  {
   "cell_type": "code",
   "execution_count": null,
   "metadata": {},
   "outputs": [],
   "source": []
  }
 ],
 "metadata": {
  "kernelspec": {
   "display_name": "Python 3.8.13 ('debug-brouhaha')",
   "language": "python",
   "name": "python3"
  },
  "language_info": {
   "codemirror_mode": {
    "name": "ipython",
    "version": 3
   },
   "file_extension": ".py",
   "mimetype": "text/x-python",
   "name": "python",
   "nbconvert_exporter": "python",
   "pygments_lexer": "ipython3",
   "version": "3.8.13"
  },
  "orig_nbformat": 4,
  "vscode": {
   "interpreter": {
    "hash": "2942a57924fa1aa8dc27705c403ed91a733362d0fa4779907c25dd51f38a75f4"
   }
  }
 },
 "nbformat": 4,
 "nbformat_minor": 2
}
